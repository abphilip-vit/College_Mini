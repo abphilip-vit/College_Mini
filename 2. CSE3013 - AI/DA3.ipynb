{
  "nbformat": 4,
  "nbformat_minor": 0,
  "metadata": {
    "colab": {
      "name": "DA3_Chatbot.ipynb",
      "provenance": [],
      "collapsed_sections": [],
      "authorship_tag": "ABX9TyMv1FXwzLSTp5hcyGjiHYnz",
      "include_colab_link": true
    },
    "kernelspec": {
      "name": "python3",
      "display_name": "Python 3"
    }
  },
  "cells": [
    {
      "cell_type": "markdown",
      "metadata": {
        "id": "view-in-github",
        "colab_type": "text"
      },
      "source": [
        "<a href=\"https://colab.research.google.com/github/allenalvin333/College_Mini/blob/master/2.%20CSE3013%20-%20AI/DA3.ipynb\" target=\"_parent\"><img src=\"https://colab.research.google.com/assets/colab-badge.svg\" alt=\"Open In Colab\"/></a>"
      ]
    },
    {
      "cell_type": "markdown",
      "metadata": {
        "id": "Ry3sm8Cb7hjj"
      },
      "source": [
        "# Chatbot - Stock Market Trading - CSE3013, F2+TF2\n",
        "# **Allen Ben Philipose (18BIS0043)** "
      ]
    },
    {
      "cell_type": "markdown",
      "metadata": {
        "id": "PeKscr9Yt_a0"
      },
      "source": [
        "### Install"
      ]
    },
    {
      "cell_type": "code",
      "metadata": {
        "id": "R0sTdeaV7KrA",
        "outputId": "3f4ba385-37a7-41f9-94eb-5a021043e5ce",
        "colab": {
          "base_uri": "https://localhost:8080/",
          "height": 129
        }
      },
      "source": [
        "pip install chatterbot"
      ],
      "execution_count": null,
      "outputs": [
        {
          "output_type": "stream",
          "text": [
            "Requirement already satisfied: chatterbot in /usr/local/lib/python3.6/dist-packages (1.0.8)\n",
            "Requirement already satisfied: sqlalchemy<1.4,>=1.3 in /usr/local/lib/python3.6/dist-packages (from chatterbot) (1.3.19)\n",
            "Requirement already satisfied: mathparse<0.2,>=0.1 in /usr/local/lib/python3.6/dist-packages (from chatterbot) (0.1.2)\n",
            "Requirement already satisfied: python-dateutil<2.9,>=2.8 in /usr/local/lib/python3.6/dist-packages (from chatterbot) (2.8.1)\n",
            "Requirement already satisfied: pytz in /usr/local/lib/python3.6/dist-packages (from chatterbot) (2018.9)\n",
            "Requirement already satisfied: six>=1.5 in /usr/local/lib/python3.6/dist-packages (from python-dateutil<2.9,>=2.8->chatterbot) (1.15.0)\n"
          ],
          "name": "stdout"
        }
      ]
    },
    {
      "cell_type": "code",
      "metadata": {
        "id": "ohDGcCTtB9yC",
        "outputId": "83a0f815-6731-437b-c7cd-78076c838dc5",
        "colab": {
          "base_uri": "https://localhost:8080/",
          "height": 54
        }
      },
      "source": [
        "pip install nltk"
      ],
      "execution_count": null,
      "outputs": [
        {
          "output_type": "stream",
          "text": [
            "Requirement already satisfied: nltk in /usr/local/lib/python3.6/dist-packages (3.2.5)\n",
            "Requirement already satisfied: six in /usr/local/lib/python3.6/dist-packages (from nltk) (1.15.0)\n"
          ],
          "name": "stdout"
        }
      ]
    },
    {
      "cell_type": "code",
      "metadata": {
        "id": "NjPonz4g9sVy",
        "outputId": "d8418313-e1f3-4938-aa18-f2f329ccd9a3",
        "colab": {
          "base_uri": "https://localhost:8080/",
          "height": 54
        }
      },
      "source": [
        "pip install chatterbot_corpus"
      ],
      "execution_count": null,
      "outputs": [
        {
          "output_type": "stream",
          "text": [
            "Requirement already satisfied: chatterbot_corpus in /usr/local/lib/python3.6/dist-packages (1.2.0)\n",
            "Requirement already satisfied: PyYAML<4.0,>=3.12 in /usr/local/lib/python3.6/dist-packages (from chatterbot_corpus) (3.13)\n"
          ],
          "name": "stdout"
        }
      ]
    },
    {
      "cell_type": "code",
      "metadata": {
        "id": "9OugE_f99WMx",
        "outputId": "f50484da-1f0c-4a22-f81d-99a65a35b6d8",
        "colab": {
          "base_uri": "https://localhost:8080/",
          "height": 149
        }
      },
      "source": [
        "pip install --upgrade chatterbot"
      ],
      "execution_count": null,
      "outputs": [
        {
          "output_type": "stream",
          "text": [
            "Requirement already up-to-date: chatterbot in /usr/local/lib/python3.6/dist-packages (1.0.8)\n",
            "Requirement already satisfied, skipping upgrade: python-dateutil<2.9,>=2.8 in /usr/local/lib/python3.6/dist-packages (from chatterbot) (2.8.1)\n",
            "Requirement already satisfied, skipping upgrade: pytz in /usr/local/lib/python3.6/dist-packages (from chatterbot) (2018.9)\n",
            "Requirement already satisfied, skipping upgrade: sqlalchemy<1.4,>=1.3 in /usr/local/lib/python3.6/dist-packages (from chatterbot) (1.3.19)\n",
            "Requirement already satisfied, skipping upgrade: mathparse<0.2,>=0.1 in /usr/local/lib/python3.6/dist-packages (from chatterbot) (0.1.2)\n",
            "Requirement already satisfied, skipping upgrade: six>=1.5 in /usr/local/lib/python3.6/dist-packages (from python-dateutil<2.9,>=2.8->chatterbot) (1.15.0)\n"
          ],
          "name": "stdout"
        }
      ]
    },
    {
      "cell_type": "code",
      "metadata": {
        "id": "9Ewp5SoS9v1d",
        "outputId": "5705fd21-db55-48d9-9837-65161f98f452",
        "colab": {
          "base_uri": "https://localhost:8080/",
          "height": 74
        }
      },
      "source": [
        "pip install --upgrade chatterbot_corpus"
      ],
      "execution_count": null,
      "outputs": [
        {
          "output_type": "stream",
          "text": [
            "Requirement already up-to-date: chatterbot_corpus in /usr/local/lib/python3.6/dist-packages (1.2.0)\n",
            "Requirement already satisfied, skipping upgrade: PyYAML<4.0,>=3.12 in /usr/local/lib/python3.6/dist-packages (from chatterbot_corpus) (3.13)\n"
          ],
          "name": "stdout"
        }
      ]
    },
    {
      "cell_type": "code",
      "metadata": {
        "id": "HgF3lbN74BWV",
        "outputId": "fac981be-3fc9-42eb-e36e-0b598dfc30b5",
        "colab": {
          "base_uri": "https://localhost:8080/",
          "height": 261
        }
      },
      "source": [
        "pip install yfinance"
      ],
      "execution_count": null,
      "outputs": [
        {
          "output_type": "stream",
          "text": [
            "Requirement already satisfied: yfinance in /usr/local/lib/python3.6/dist-packages (0.1.54)\n",
            "Requirement already satisfied: requests>=2.20 in /usr/local/lib/python3.6/dist-packages (from yfinance) (2.23.0)\n",
            "Requirement already satisfied: pandas>=0.24 in /usr/local/lib/python3.6/dist-packages (from yfinance) (1.0.5)\n",
            "Requirement already satisfied: numpy>=1.15 in /usr/local/lib/python3.6/dist-packages (from yfinance) (1.18.5)\n",
            "Requirement already satisfied: multitasking>=0.0.7 in /usr/local/lib/python3.6/dist-packages (from yfinance) (0.0.9)\n",
            "Requirement already satisfied: certifi>=2017.4.17 in /usr/local/lib/python3.6/dist-packages (from requests>=2.20->yfinance) (2020.6.20)\n",
            "Requirement already satisfied: idna<3,>=2.5 in /usr/local/lib/python3.6/dist-packages (from requests>=2.20->yfinance) (2.10)\n",
            "Requirement already satisfied: chardet<4,>=3.0.2 in /usr/local/lib/python3.6/dist-packages (from requests>=2.20->yfinance) (3.0.4)\n",
            "Requirement already satisfied: urllib3!=1.25.0,!=1.25.1,<1.26,>=1.21.1 in /usr/local/lib/python3.6/dist-packages (from requests>=2.20->yfinance) (1.24.3)\n",
            "Requirement already satisfied: python-dateutil>=2.6.1 in /usr/local/lib/python3.6/dist-packages (from pandas>=0.24->yfinance) (2.8.1)\n",
            "Requirement already satisfied: pytz>=2017.2 in /usr/local/lib/python3.6/dist-packages (from pandas>=0.24->yfinance) (2018.9)\n",
            "Requirement already satisfied: six>=1.5 in /usr/local/lib/python3.6/dist-packages (from python-dateutil>=2.6.1->pandas>=0.24->yfinance) (1.15.0)\n"
          ],
          "name": "stdout"
        }
      ]
    },
    {
      "cell_type": "code",
      "metadata": {
        "id": "6YN2nIY_1gJb",
        "outputId": "9c431e6b-9b8c-4a2f-b2f2-7fc86417a5c5",
        "colab": {
          "base_uri": "https://localhost:8080/",
          "height": 149
        }
      },
      "source": [
        "pip install duka"
      ],
      "execution_count": null,
      "outputs": [
        {
          "output_type": "stream",
          "text": [
            "Requirement already satisfied: duka in /usr/local/lib/python3.6/dist-packages (0.2.0)\n",
            "Requirement already satisfied: requests>=2.9.1 in /usr/local/lib/python3.6/dist-packages (from duka) (2.23.0)\n",
            "Requirement already satisfied: urllib3!=1.25.0,!=1.25.1,<1.26,>=1.21.1 in /usr/local/lib/python3.6/dist-packages (from requests>=2.9.1->duka) (1.24.3)\n",
            "Requirement already satisfied: idna<3,>=2.5 in /usr/local/lib/python3.6/dist-packages (from requests>=2.9.1->duka) (2.10)\n",
            "Requirement already satisfied: chardet<4,>=3.0.2 in /usr/local/lib/python3.6/dist-packages (from requests>=2.9.1->duka) (3.0.4)\n",
            "Requirement already satisfied: certifi>=2017.4.17 in /usr/local/lib/python3.6/dist-packages (from requests>=2.9.1->duka) (2020.6.20)\n"
          ],
          "name": "stdout"
        }
      ]
    },
    {
      "cell_type": "markdown",
      "metadata": {
        "id": "wmiv6p8K8N8q"
      },
      "source": [
        "### Import Libraries"
      ]
    },
    {
      "cell_type": "code",
      "metadata": {
        "id": "CktGnsmu7Vci"
      },
      "source": [
        "from chatterbot import ChatBot\n",
        "from chatterbot.trainers import ListTrainer\n",
        "from chatterbot.trainers import ChatterBotCorpusTrainer\n",
        "from nltk.chat.util import Chat, reflections\n",
        "import matplotlib.pyplot as plt\n",
        "import matplotlib.animation as graph\n",
        "import matplotlib.dates as mdates\n",
        "import matplotlib.ticker as mticker\n",
        "import pandas as pd\n",
        "import numpy as np\n",
        "import plotly.graph_objects as go\n",
        "import duka.app.app as import_ticks_method\n",
        "import yfinance as yf\n",
        "import pylab, time, datetime\n",
        "from duka.core.utils import TimeFrame\n",
        "import bs4\n",
        "from bs4 import BeautifulSoup\n",
        "import json, csv, requests"
      ],
      "execution_count": null,
      "outputs": []
    },
    {
      "cell_type": "markdown",
      "metadata": {
        "id": "AZWnteU69Bt0"
      },
      "source": [
        "### NLTK Method "
      ]
    },
    {
      "cell_type": "code",
      "metadata": {
        "id": "JdgvbBf01kkD",
        "outputId": "914ae5e9-eeb6-4679-f67d-47d94b5ed5b8",
        "colab": {
          "base_uri": "https://localhost:8080/",
          "height": 54
        }
      },
      "source": [
        "%matplotlib inline\n",
        "%load_ext autoreload\n",
        "%autoreload 2\n",
        "%matplotlib notebook"
      ],
      "execution_count": null,
      "outputs": [
        {
          "output_type": "stream",
          "text": [
            "The autoreload extension is already loaded. To reload it, use:\n",
            "  %reload_ext autoreload\n"
          ],
          "name": "stdout"
        }
      ]
    },
    {
      "cell_type": "code",
      "metadata": {
        "id": "J_LxxmDd1aeX",
        "outputId": "373129f1-8878-4816-9b96-a0aacc1dce12",
        "colab": {
          "base_uri": "https://localhost:8080/",
          "height": 92
        }
      },
      "source": [
        "mypairs = [\n",
        "         ['my name is (.*)',['Hi %1']],\n",
        "         ['i\\'m (.*)',['Hi %1']],\n",
        "         ['i am (.*)',['Hi %1']],\n",
        "         ['(hi|hello|hey|hola)',['Hey there !']],\n",
        "         ['(.*) in (.*) is fun', ['%1 in %2 is indeed fun !']],\n",
        "         ['(.*) created you ?',['Allen did']], \n",
        "         ['(.*) your name ?', \n",
        "          ['I\\'m Len1. Here to help you with Trading Transactions']]\n",
        "]\n",
        "myreflections = {\n",
        "    'go':'Gone',\n",
        "    'hello':'Hey there'\n",
        "}\n",
        "chat = Chat(mypairs, myreflections)\n",
        "chat.converse()"
      ],
      "execution_count": null,
      "outputs": [
        {
          "output_type": "stream",
          "text": [
            ">Hello\n",
            "Hey there !\n",
            ">quit\n",
            "None\n"
          ],
          "name": "stdout"
        }
      ]
    },
    {
      "cell_type": "markdown",
      "metadata": {
        "id": "rgqmOUvfdEom"
      },
      "source": [
        "### ChatterBot Method"
      ]
    },
    {
      "cell_type": "code",
      "metadata": {
        "id": "xoaGeg7x7fYj"
      },
      "source": [
        "my_bot = ChatBot(name='PyBot', read_only=True, \n",
        "                 logic_adapters=['chatterbot.logic.MathematicalEvaluation', 'chatterbot.logic.BestMatch'])\n",
        "corpus_trainer = ChatterBotCorpusTrainer(my_bot)\n",
        "# corpus_trainer.train('chatterbot.corpus.english')"
      ],
      "execution_count": null,
      "outputs": []
    },
    {
      "cell_type": "code",
      "metadata": {
        "id": "UFFy4PJd0gRL"
      },
      "source": [
        "talk = ['Hi there!','Hi!','How do you do?','How are you?','I\\'m cool.',\n",
        "'Fine, you?','Always cool.','I\\'m ok','Glad to hear that.','I\\'m fine','Glad to hear that.','I feel awesome',\n",
        "'Excellent, glad to hear that.','Not so good','Sorry to hear that.','What\\'s your name?',\n",
        "'I\\'m Len1. Here to help you with Trading Transactions']\n",
        "buy = ['Buy', 'Enter Security code for Transaction']\n",
        "sell = ['Sell', 'Enter Security code for Transaction']\n",
        "code = ['allen', 'Correct Code, Transaction Executed']\n",
        "wrong = ['someone else', 'Incorrect Code']\n",
        "who = ['Who are you ?', 'I\\'m Len1. Here to help you with Trading Transactions']\n",
        "what = ['What are you ?', 'I\\'m Len1. Here to help you with Trading Transactions']"
      ],
      "execution_count": null,
      "outputs": []
    },
    {
      "cell_type": "code",
      "metadata": {
        "id": "tA7pywvl0kEg",
        "outputId": "913333a2-a532-450e-c9d3-f340753f1828",
        "colab": {
          "base_uri": "https://localhost:8080/",
          "height": 148
        }
      },
      "source": [
        "list_trainer = ListTrainer(my_bot)\n",
        "for item in (talk, buy, sell, code, wrong, who, what):list_trainer.train(item)"
      ],
      "execution_count": null,
      "outputs": [
        {
          "output_type": "stream",
          "text": [
            "List Trainer: [####################] 100%\n",
            "List Trainer: [####################] 100%\n",
            "List Trainer: [####################] 100%\n",
            "List Trainer: [####################] 100%\n",
            "List Trainer: [####################] 100%\n",
            "List Trainer: [####################] 100%\n",
            "List Trainer: [####################] 100%\n"
          ],
          "name": "stdout"
        }
      ]
    },
    {
      "cell_type": "markdown",
      "metadata": {
        "id": "_rrSDGQC3Dg7"
      },
      "source": [
        "### Show Price"
      ]
    },
    {
      "cell_type": "code",
      "metadata": {
        "id": "dHNifUze5iTa"
      },
      "source": [
        "def price(st):\n",
        "  r = requests.get('https://finance.yahoo.com/quote/'+st+'?p='+st)\n",
        "  soup = bs4.BeautifulSoup(r.text)\n",
        "  try: \n",
        "    a = soup.find_all('div',{'class':'D(ib) Mend(20px)'})[0].find('span').text\n",
        "    return a\n",
        "  except:\n",
        "    return 0"
      ],
      "execution_count": null,
      "outputs": []
    },
    {
      "cell_type": "markdown",
      "metadata": {
        "id": "qx4FjB2E6DkW"
      },
      "source": [
        "### Generating Graphs"
      ]
    },
    {
      "cell_type": "code",
      "metadata": {
        "id": "XnvC7iwo5v6_"
      },
      "source": [
        "def graph(URL):\n",
        "  slack = yf.Ticker(\"WORK\")\n",
        "  history = slack.history(period = \"max\")\n",
        "  r = requests.get(URL)\n",
        "  json_data = json.loads(r.content)\n",
        "\n",
        "  csv_file = open('stocks.csv','w')\n",
        "  csv_writer = csv.writer(csv_file)\n",
        "  csv_writer.writerow(['date','open','high','low','close'])\n",
        "  for item in json_data:\n",
        "    # print(item)\n",
        "    csv_writer.writerow([item['date'], item['open'], item['high'], item['low'], item['close']])\n",
        "\n",
        "  csv_file.close()\n",
        "  df = pd.read_csv('stocks.csv')\n",
        "  candlestick = go.Candlestick(x=df['date'], open=df['open'], high=df['high'], low=df['low'], close=df['close'])\n",
        "  figure = go.Figure(data=[candlestick])\n",
        "  figure.layout.xaxis.type = 'category'\n",
        "  figure.show() "
      ],
      "execution_count": null,
      "outputs": []
    },
    {
      "cell_type": "markdown",
      "metadata": {
        "id": "C5SBylhr3LeD"
      },
      "source": [
        "### Functions"
      ]
    },
    {
      "cell_type": "code",
      "metadata": {
        "id": "tUKfgFr9nv-c"
      },
      "source": [
        "def showgraph(s):\n",
        "  TOKEN = 'pk_64b25672d62f4e07abf640ef13a7aa17'\n",
        "  SYMBOL = s\n",
        "  URL = \"https://cloud.iexapis.com/stable/stock/{}/chart/ytd?token={}\".format(SYMBOL, TOKEN)\n",
        "  graph(URL)\n",
        "\n",
        "def showprice():\n",
        "  while True:\n",
        "    print(\"\\nEnter the stock name or QUIT to exit \\n\")\n",
        "    s = input()\n",
        "    if(s!='QUIT'):\n",
        "      f = price(s)\n",
        "      if(f!=0):\n",
        "        print(\"Price now: \"+str(price(s)))\n",
        "        print(\"\\nWould you like to see the candlestick graph ? (Y/N)\")\n",
        "        if(input()=='Y'):\n",
        "          showgraph(s)\n",
        "      else:\n",
        "        print(\"Stock does not exist, try again\")\n",
        "    else:\n",
        "      break"
      ],
      "execution_count": null,
      "outputs": []
    },
    {
      "cell_type": "markdown",
      "metadata": {
        "id": "PDrfnNVmSPA1"
      },
      "source": [
        "### Main"
      ]
    },
    {
      "cell_type": "code",
      "metadata": {
        "id": "OBjxS02oSQSZ",
        "outputId": "f1b073ae-ca67-4545-cbc4-14d13df8eb87",
        "colab": {
          "base_uri": "https://localhost:8080/",
          "height": 1000
        }
      },
      "source": [
        "print(\"Enter 'Q' to exit\")\n",
        "while(True):\n",
        "  print()\n",
        "  print(\"You : \", end=\"\")\n",
        "  a = input()\n",
        "  if('price' in a):\n",
        "    showprice()\n",
        "  elif(a!='Q'):\n",
        "    try:\n",
        "      print(\"Bot : %s\"%my_bot.get_response(a))\n",
        "    except:\n",
        "      print(\"Please repeat the instruction\")\n",
        "  else:\n",
        "    break  "
      ],
      "execution_count": null,
      "outputs": [
        {
          "output_type": "stream",
          "text": [
            "Enter 'Q' to exit\n",
            "\n",
            "You : Hello\n",
            "Bot : Hi\n",
            "\n",
            "You : Who are you ?\n",
            "Bot : I am just an artificial intelligence.\n",
            "\n",
            "You : Who \n",
            "Bot : I'm Len1. Here to help you with Trading Transactions\n",
            "\n",
            "You : Show me the stock prices today\n",
            "\n",
            "Enter the stock name or QUIT to exit \n",
            "\n",
            "FB\n",
            "Price now: 259.88\n",
            "\n",
            "Would you like to see the candlestick graph ? (Y/N)\n",
            "N\n",
            "\n",
            "Enter the stock name or QUIT to exit \n",
            "\n",
            "AAPL\n",
            "Price now: 114.07\n",
            "\n",
            "Would you like to see the candlestick graph ? (Y/N)\n",
            "Y\n"
          ],
          "name": "stdout"
        },
        {
          "output_type": "display_data",
          "data": {
            "text/html": [
              "<html>\n",
              "<head><meta charset=\"utf-8\" /></head>\n",
              "<body>\n",
              "    <div>\n",
              "            <script src=\"https://cdnjs.cloudflare.com/ajax/libs/mathjax/2.7.5/MathJax.js?config=TeX-AMS-MML_SVG\"></script><script type=\"text/javascript\">if (window.MathJax) {MathJax.Hub.Config({SVG: {font: \"STIX-Web\"}});}</script>\n",
              "                <script type=\"text/javascript\">window.PlotlyConfig = {MathJaxConfig: 'local'};</script>\n",
              "        <script src=\"https://cdn.plot.ly/plotly-latest.min.js\"></script>    \n",
              "            <div id=\"6532e1b0-4c69-4d51-a7b3-6c98cd8dad6f\" class=\"plotly-graph-div\" style=\"height:525px; width:100%;\"></div>\n",
              "            <script type=\"text/javascript\">\n",
              "                \n",
              "                    window.PLOTLYENV=window.PLOTLYENV || {};\n",
              "                    \n",
              "                if (document.getElementById(\"6532e1b0-4c69-4d51-a7b3-6c98cd8dad6f\")) {\n",
              "                    Plotly.newPlot(\n",
              "                        '6532e1b0-4c69-4d51-a7b3-6c98cd8dad6f',\n",
              "                        [{\"close\": [75.09, 74.36, 74.95, 74.6, 75.8, 77.41, 77.58, 79.24, 78.17, 77.84, 78.81, 79.68, 79.14, 79.43, 79.81, 79.58, 77.24, 79.42, 81.09, 80.97, 77.38, 77.17, 79.71, 80.36, 81.3, 80.01, 80.39, 79.9, 81.8, 81.22, 81.24, 79.75, 80.91, 80.08, 78.26, 74.55, 72.02, 73.16, 68.38, 68.34, 74.7, 72.33, 75.69, 73.23, 72.26, 66.54, 71.34, 68.86, 62.06, 69.49, 60.55, 63.22, 61.67, 61.2, 57.31, 56.09, 61.72, 61.38, 64.61, 61.94, 63.7, 63.57, 60.23, 61.23, 60.35, 65.62, 64.86, 66.52, 67.0, 68.31, 71.76, 71.11, 71.67, 70.7, 69.23, 67.09, 69.03, 68.76, 70.74, 70.79, 69.65, 71.93, 73.45, 72.27, 73.29, 74.39, 75.16, 75.94, 77.53, 78.75, 77.85, 76.91, 77.39, 76.93, 78.74, 78.29, 79.81, 79.21, 79.72, 79.18, 79.53, 79.56, 79.49, 80.46, 80.84, 81.28, 80.58, 82.88, 83.37, 86.0, 88.21, 83.98, 84.7, 85.75, 88.02, 87.9, 87.93, 87.43, 89.72, 91.63, 90.02, 91.21, 88.41, 90.45, 91.2, 91.03, 91.03, 93.46, 93.17, 95.34, 95.68, 95.92, 95.48, 97.06, 97.73, 96.52, 96.33, 98.36, 97.0, 97.27, 92.85, 92.62, 94.81, 93.25, 95.04, 96.19, 106.26, 108.94, 109.67, 110.06, 113.9, 111.11, 112.73, 109.38, 113.01, 115.01, 114.91, 114.61, 115.56, 115.71, 118.28, 124.37, 125.86, 124.83, 126.52, 125.01, 124.81, 129.04, 134.18, 131.4, 120.88, 120.96, 112.82, 117.32, 113.49, 112.0, 115.36, 115.54, 112.13, 110.34, 106.84, 110.08, 111.81, 107.12, 108.22, 112.28, 114.96], \"high\": [75.15, 75.15, 74.99, 75.23, 76.11, 77.61, 78.17, 79.27, 79.39, 78.88, 78.93, 79.69, 79.76, 80.0, 79.89, 80.83, 77.94, 79.6, 81.96, 81.02, 80.67, 78.37, 79.91, 81.19, 81.31, 80.85, 80.39, 80.98, 81.81, 81.56, 81.5, 79.94, 81.14, 81.16, 80.11, 76.05, 75.63, 74.47, 71.5, 69.6, 75.36, 76.0, 75.85, 74.89, 72.71, 69.52, 71.61, 70.31, 67.5, 69.98, 64.77, 64.4, 62.5, 63.21, 62.96, 57.12, 61.92, 64.56, 64.67, 63.97, 63.88, 65.62, 62.18, 61.29, 61.43, 65.78, 67.93, 66.84, 67.52, 68.43, 72.06, 71.58, 72.05, 71.74, 70.42, 69.31, 69.48, 70.44, 70.75, 71.14, 71.46, 72.42, 73.63, 74.75, 73.42, 75.25, 75.81, 76.29, 77.59, 79.26, 79.92, 78.99, 77.45, 76.98, 79.13, 79.63, 79.88, 80.22, 79.81, 81.06, 79.68, 80.86, 80.29, 80.59, 80.86, 81.55, 81.41, 82.94, 83.4, 86.4, 88.69, 87.77, 86.95, 86.42, 88.3, 88.85, 88.36, 89.14, 89.87, 93.1, 92.2, 91.25, 91.33, 90.54, 91.5, 91.84, 92.62, 93.95, 94.66, 95.38, 96.32, 95.98, 99.96, 97.26, 99.25, 97.41, 97.15, 98.5, 99.25, 97.98, 97.08, 92.97, 94.91, 94.55, 95.23, 96.3, 106.42, 111.64, 110.79, 110.39, 114.41, 113.68, 113.78, 112.48, 113.28, 116.04, 115.0, 116.09, 116.0, 117.16, 118.39, 124.87, 128.79, 125.18, 126.99, 127.49, 126.44, 131.0, 134.8, 137.98, 128.84, 123.7, 118.99, 119.14, 120.5, 115.23, 115.93, 118.83, 116.0, 112.2, 110.88, 110.19, 112.86, 112.11, 110.25, 112.44, 115.32], \"low\": [73.8, 74.13, 73.19, 74.37, 74.29, 76.55, 77.06, 77.79, 78.04, 77.39, 78.02, 78.75, 79.0, 79.33, 78.91, 79.38, 76.22, 78.05, 80.35, 79.69, 77.07, 75.56, 78.41, 79.74, 80.07, 79.5, 78.46, 79.68, 80.37, 80.84, 80.71, 78.65, 80.0, 79.55, 77.63, 72.31, 71.53, 71.63, 68.24, 64.09, 69.43, 71.45, 73.28, 72.85, 70.31, 65.75, 67.34, 67.97, 62.0, 63.24, 60.0, 59.6, 59.28, 60.65, 57.0, 53.15, 58.58, 61.08, 61.59, 61.76, 62.35, 63.0, 59.78, 59.23, 59.74, 62.35, 64.75, 65.31, 66.18, 66.46, 69.51, 70.16, 70.59, 69.22, 69.21, 66.36, 68.05, 68.72, 69.25, 69.99, 69.55, 70.97, 72.09, 71.46, 71.58, 73.62, 74.72, 75.49, 76.07, 76.81, 77.73, 75.8, 75.38, 75.05, 77.58, 78.25, 79.05, 78.97, 78.84, 79.13, 78.27, 78.91, 79.12, 79.3, 79.73, 80.58, 80.2, 80.81, 81.83, 83.0, 86.52, 83.87, 83.56, 83.15, 86.18, 87.77, 87.31, 86.29, 87.79, 90.57, 89.63, 89.39, 88.26, 87.82, 90.0, 90.98, 90.91, 92.47, 93.06, 94.09, 94.67, 94.71, 95.26, 93.88, 96.49, 95.91, 95.84, 96.06, 96.74, 96.6, 92.01, 89.15, 93.48, 93.25, 93.71, 93.77, 100.83, 107.89, 108.39, 108.9, 109.8, 110.29, 110.0, 109.11, 110.3, 113.93, 113.05, 113.96, 114.01, 115.61, 115.73, 119.25, 123.94, 123.05, 125.08, 123.83, 124.58, 126.0, 130.53, 127.0, 120.5, 110.89, 112.68, 115.26, 112.5, 110.0, 112.8, 113.61, 112.04, 108.71, 106.09, 103.1, 109.16, 106.77, 105.0, 107.67, 112.78], \"open\": [74.06, 74.29, 73.45, 74.96, 74.29, 76.81, 77.65, 77.91, 79.18, 77.96, 78.4, 79.07, 79.3, 79.65, 79.48, 80.06, 77.52, 78.15, 81.11, 80.14, 80.23, 76.08, 78.83, 80.88, 80.64, 80.59, 78.55, 80.9, 80.37, 81.05, 81.19, 78.84, 80.0, 80.66, 79.66, 74.32, 75.24, 71.63, 70.28, 64.32, 70.57, 75.92, 74.11, 73.88, 70.5, 65.94, 69.29, 69.35, 63.99, 66.22, 60.49, 61.88, 59.94, 61.85, 61.8, 57.02, 59.09, 62.69, 61.63, 63.19, 62.69, 63.9, 61.63, 60.09, 60.7, 62.73, 67.7, 65.69, 67.18, 67.08, 70.0, 70.6, 71.85, 71.17, 69.49, 69.07, 68.4, 68.97, 69.3, 70.45, 71.27, 71.18, 72.49, 71.56, 72.29, 73.77, 75.12, 75.81, 76.41, 77.03, 79.46, 78.04, 76.13, 75.09, 78.29, 78.76, 79.17, 79.67, 78.94, 80.88, 79.04, 79.19, 79.81, 79.44, 80.19, 81.17, 81.1, 80.84, 82.56, 83.04, 86.98, 87.33, 86.18, 83.31, 87.87, 88.79, 87.85, 88.66, 87.84, 91.0, 91.25, 90.18, 91.1, 88.31, 90.02, 91.28, 91.96, 92.5, 93.85, 94.18, 96.26, 95.34, 97.27, 94.84, 98.99, 96.56, 96.99, 96.42, 99.17, 96.69, 97.0, 90.99, 93.71, 94.37, 93.75, 94.19, 102.88, 108.2, 109.13, 109.38, 110.41, 113.21, 112.6, 111.97, 110.5, 114.43, 114.83, 116.06, 114.35, 115.98, 115.75, 119.26, 128.7, 124.7, 126.18, 127.14, 126.01, 127.58, 132.76, 137.59, 126.91, 120.07, 113.95, 117.26, 120.36, 114.57, 114.72, 118.33, 115.23, 109.72, 110.4, 104.54, 112.68, 111.62, 105.17, 108.43, 115.01], \"type\": \"candlestick\", \"x\": [\"2020-01-02\", \"2020-01-03\", \"2020-01-06\", \"2020-01-07\", \"2020-01-08\", \"2020-01-09\", \"2020-01-10\", \"2020-01-13\", \"2020-01-14\", \"2020-01-15\", \"2020-01-16\", \"2020-01-17\", \"2020-01-21\", \"2020-01-22\", \"2020-01-23\", \"2020-01-24\", \"2020-01-27\", \"2020-01-28\", \"2020-01-29\", \"2020-01-30\", \"2020-01-31\", \"2020-02-03\", \"2020-02-04\", \"2020-02-05\", \"2020-02-06\", \"2020-02-07\", \"2020-02-10\", \"2020-02-11\", \"2020-02-12\", \"2020-02-13\", \"2020-02-14\", \"2020-02-18\", \"2020-02-19\", \"2020-02-20\", \"2020-02-21\", \"2020-02-24\", \"2020-02-25\", \"2020-02-26\", \"2020-02-27\", \"2020-02-28\", \"2020-03-02\", \"2020-03-03\", \"2020-03-04\", \"2020-03-05\", \"2020-03-06\", \"2020-03-09\", \"2020-03-10\", \"2020-03-11\", \"2020-03-12\", \"2020-03-13\", \"2020-03-16\", \"2020-03-17\", \"2020-03-18\", \"2020-03-19\", \"2020-03-20\", \"2020-03-23\", \"2020-03-24\", \"2020-03-25\", \"2020-03-26\", \"2020-03-27\", \"2020-03-30\", \"2020-03-31\", \"2020-04-01\", \"2020-04-02\", \"2020-04-03\", \"2020-04-06\", \"2020-04-07\", \"2020-04-08\", \"2020-04-09\", \"2020-04-13\", \"2020-04-14\", \"2020-04-15\", \"2020-04-16\", \"2020-04-17\", \"2020-04-20\", \"2020-04-21\", \"2020-04-22\", \"2020-04-23\", \"2020-04-24\", \"2020-04-27\", \"2020-04-28\", \"2020-04-29\", \"2020-04-30\", \"2020-05-01\", \"2020-05-04\", \"2020-05-05\", \"2020-05-06\", \"2020-05-07\", \"2020-05-08\", \"2020-05-11\", \"2020-05-12\", \"2020-05-13\", \"2020-05-14\", \"2020-05-15\", \"2020-05-18\", \"2020-05-19\", \"2020-05-20\", \"2020-05-21\", \"2020-05-22\", \"2020-05-26\", \"2020-05-27\", \"2020-05-28\", \"2020-05-29\", \"2020-06-01\", \"2020-06-02\", \"2020-06-03\", \"2020-06-04\", \"2020-06-05\", \"2020-06-08\", \"2020-06-09\", \"2020-06-10\", \"2020-06-11\", \"2020-06-12\", \"2020-06-15\", \"2020-06-16\", \"2020-06-17\", \"2020-06-18\", \"2020-06-19\", \"2020-06-22\", \"2020-06-23\", \"2020-06-24\", \"2020-06-25\", \"2020-06-26\", \"2020-06-29\", \"2020-06-30\", \"2020-07-01\", \"2020-07-02\", \"2020-07-06\", \"2020-07-07\", \"2020-07-08\", \"2020-07-09\", \"2020-07-10\", \"2020-07-13\", \"2020-07-14\", \"2020-07-15\", \"2020-07-16\", \"2020-07-17\", \"2020-07-20\", \"2020-07-21\", \"2020-07-22\", \"2020-07-23\", \"2020-07-24\", \"2020-07-27\", \"2020-07-28\", \"2020-07-29\", \"2020-07-30\", \"2020-07-31\", \"2020-08-03\", \"2020-08-04\", \"2020-08-05\", \"2020-08-06\", \"2020-08-07\", \"2020-08-10\", \"2020-08-11\", \"2020-08-12\", \"2020-08-13\", \"2020-08-14\", \"2020-08-17\", \"2020-08-18\", \"2020-08-19\", \"2020-08-20\", \"2020-08-21\", \"2020-08-24\", \"2020-08-25\", \"2020-08-26\", \"2020-08-27\", \"2020-08-28\", \"2020-08-31\", \"2020-09-01\", \"2020-09-02\", \"2020-09-03\", \"2020-09-04\", \"2020-09-08\", \"2020-09-09\", \"2020-09-10\", \"2020-09-11\", \"2020-09-14\", \"2020-09-15\", \"2020-09-16\", \"2020-09-17\", \"2020-09-18\", \"2020-09-21\", \"2020-09-22\", \"2020-09-23\", \"2020-09-24\", \"2020-09-25\", \"2020-09-28\"]}],\n",
              "                        {\"template\": {\"data\": {\"bar\": [{\"error_x\": {\"color\": \"#2a3f5f\"}, \"error_y\": {\"color\": \"#2a3f5f\"}, \"marker\": {\"line\": {\"color\": \"#E5ECF6\", \"width\": 0.5}}, \"type\": \"bar\"}], \"barpolar\": [{\"marker\": {\"line\": {\"color\": \"#E5ECF6\", \"width\": 0.5}}, \"type\": \"barpolar\"}], \"carpet\": [{\"aaxis\": {\"endlinecolor\": \"#2a3f5f\", \"gridcolor\": \"white\", \"linecolor\": \"white\", \"minorgridcolor\": \"white\", \"startlinecolor\": \"#2a3f5f\"}, \"baxis\": {\"endlinecolor\": \"#2a3f5f\", \"gridcolor\": \"white\", \"linecolor\": \"white\", \"minorgridcolor\": \"white\", \"startlinecolor\": \"#2a3f5f\"}, \"type\": \"carpet\"}], \"choropleth\": [{\"colorbar\": {\"outlinewidth\": 0, \"ticks\": \"\"}, \"type\": \"choropleth\"}], \"contour\": [{\"colorbar\": {\"outlinewidth\": 0, \"ticks\": \"\"}, \"colorscale\": [[0.0, \"#0d0887\"], [0.1111111111111111, \"#46039f\"], [0.2222222222222222, \"#7201a8\"], [0.3333333333333333, \"#9c179e\"], [0.4444444444444444, \"#bd3786\"], [0.5555555555555556, \"#d8576b\"], [0.6666666666666666, \"#ed7953\"], [0.7777777777777778, \"#fb9f3a\"], [0.8888888888888888, \"#fdca26\"], [1.0, \"#f0f921\"]], \"type\": \"contour\"}], \"contourcarpet\": [{\"colorbar\": {\"outlinewidth\": 0, \"ticks\": \"\"}, \"type\": \"contourcarpet\"}], \"heatmap\": [{\"colorbar\": {\"outlinewidth\": 0, \"ticks\": \"\"}, \"colorscale\": [[0.0, \"#0d0887\"], [0.1111111111111111, \"#46039f\"], [0.2222222222222222, \"#7201a8\"], [0.3333333333333333, \"#9c179e\"], [0.4444444444444444, \"#bd3786\"], [0.5555555555555556, \"#d8576b\"], [0.6666666666666666, \"#ed7953\"], [0.7777777777777778, \"#fb9f3a\"], [0.8888888888888888, \"#fdca26\"], [1.0, \"#f0f921\"]], \"type\": \"heatmap\"}], \"heatmapgl\": [{\"colorbar\": {\"outlinewidth\": 0, \"ticks\": \"\"}, \"colorscale\": [[0.0, \"#0d0887\"], [0.1111111111111111, \"#46039f\"], [0.2222222222222222, \"#7201a8\"], [0.3333333333333333, \"#9c179e\"], [0.4444444444444444, \"#bd3786\"], [0.5555555555555556, \"#d8576b\"], [0.6666666666666666, \"#ed7953\"], [0.7777777777777778, \"#fb9f3a\"], [0.8888888888888888, \"#fdca26\"], [1.0, \"#f0f921\"]], \"type\": \"heatmapgl\"}], \"histogram\": [{\"marker\": {\"colorbar\": {\"outlinewidth\": 0, \"ticks\": \"\"}}, \"type\": \"histogram\"}], \"histogram2d\": [{\"colorbar\": {\"outlinewidth\": 0, \"ticks\": \"\"}, \"colorscale\": [[0.0, \"#0d0887\"], [0.1111111111111111, \"#46039f\"], [0.2222222222222222, \"#7201a8\"], [0.3333333333333333, \"#9c179e\"], [0.4444444444444444, \"#bd3786\"], [0.5555555555555556, \"#d8576b\"], [0.6666666666666666, \"#ed7953\"], [0.7777777777777778, \"#fb9f3a\"], [0.8888888888888888, \"#fdca26\"], [1.0, \"#f0f921\"]], \"type\": \"histogram2d\"}], \"histogram2dcontour\": [{\"colorbar\": {\"outlinewidth\": 0, \"ticks\": \"\"}, \"colorscale\": [[0.0, \"#0d0887\"], [0.1111111111111111, \"#46039f\"], [0.2222222222222222, \"#7201a8\"], [0.3333333333333333, \"#9c179e\"], [0.4444444444444444, \"#bd3786\"], [0.5555555555555556, \"#d8576b\"], [0.6666666666666666, \"#ed7953\"], [0.7777777777777778, \"#fb9f3a\"], [0.8888888888888888, \"#fdca26\"], [1.0, \"#f0f921\"]], \"type\": \"histogram2dcontour\"}], \"mesh3d\": [{\"colorbar\": {\"outlinewidth\": 0, \"ticks\": \"\"}, \"type\": \"mesh3d\"}], \"parcoords\": [{\"line\": {\"colorbar\": {\"outlinewidth\": 0, \"ticks\": \"\"}}, \"type\": \"parcoords\"}], \"pie\": [{\"automargin\": true, \"type\": \"pie\"}], \"scatter\": [{\"marker\": {\"colorbar\": {\"outlinewidth\": 0, \"ticks\": \"\"}}, \"type\": \"scatter\"}], \"scatter3d\": [{\"line\": {\"colorbar\": {\"outlinewidth\": 0, \"ticks\": \"\"}}, \"marker\": {\"colorbar\": {\"outlinewidth\": 0, \"ticks\": \"\"}}, \"type\": \"scatter3d\"}], \"scattercarpet\": [{\"marker\": {\"colorbar\": {\"outlinewidth\": 0, \"ticks\": \"\"}}, \"type\": \"scattercarpet\"}], \"scattergeo\": [{\"marker\": {\"colorbar\": {\"outlinewidth\": 0, \"ticks\": \"\"}}, \"type\": \"scattergeo\"}], \"scattergl\": [{\"marker\": {\"colorbar\": {\"outlinewidth\": 0, \"ticks\": \"\"}}, \"type\": \"scattergl\"}], \"scattermapbox\": [{\"marker\": {\"colorbar\": {\"outlinewidth\": 0, \"ticks\": \"\"}}, \"type\": \"scattermapbox\"}], \"scatterpolar\": [{\"marker\": {\"colorbar\": {\"outlinewidth\": 0, \"ticks\": \"\"}}, \"type\": \"scatterpolar\"}], \"scatterpolargl\": [{\"marker\": {\"colorbar\": {\"outlinewidth\": 0, \"ticks\": \"\"}}, \"type\": \"scatterpolargl\"}], \"scatterternary\": [{\"marker\": {\"colorbar\": {\"outlinewidth\": 0, \"ticks\": \"\"}}, \"type\": \"scatterternary\"}], \"surface\": [{\"colorbar\": {\"outlinewidth\": 0, \"ticks\": \"\"}, \"colorscale\": [[0.0, \"#0d0887\"], [0.1111111111111111, \"#46039f\"], [0.2222222222222222, \"#7201a8\"], [0.3333333333333333, \"#9c179e\"], [0.4444444444444444, \"#bd3786\"], [0.5555555555555556, \"#d8576b\"], [0.6666666666666666, \"#ed7953\"], [0.7777777777777778, \"#fb9f3a\"], [0.8888888888888888, \"#fdca26\"], [1.0, \"#f0f921\"]], \"type\": \"surface\"}], \"table\": [{\"cells\": {\"fill\": {\"color\": \"#EBF0F8\"}, \"line\": {\"color\": \"white\"}}, \"header\": {\"fill\": {\"color\": \"#C8D4E3\"}, \"line\": {\"color\": \"white\"}}, \"type\": \"table\"}]}, \"layout\": {\"annotationdefaults\": {\"arrowcolor\": \"#2a3f5f\", \"arrowhead\": 0, \"arrowwidth\": 1}, \"coloraxis\": {\"colorbar\": {\"outlinewidth\": 0, \"ticks\": \"\"}}, \"colorscale\": {\"diverging\": [[0, \"#8e0152\"], [0.1, \"#c51b7d\"], [0.2, \"#de77ae\"], [0.3, \"#f1b6da\"], [0.4, \"#fde0ef\"], [0.5, \"#f7f7f7\"], [0.6, \"#e6f5d0\"], [0.7, \"#b8e186\"], [0.8, \"#7fbc41\"], [0.9, \"#4d9221\"], [1, \"#276419\"]], \"sequential\": [[0.0, \"#0d0887\"], [0.1111111111111111, \"#46039f\"], [0.2222222222222222, \"#7201a8\"], [0.3333333333333333, \"#9c179e\"], [0.4444444444444444, \"#bd3786\"], [0.5555555555555556, \"#d8576b\"], [0.6666666666666666, \"#ed7953\"], [0.7777777777777778, \"#fb9f3a\"], [0.8888888888888888, \"#fdca26\"], [1.0, \"#f0f921\"]], \"sequentialminus\": [[0.0, \"#0d0887\"], [0.1111111111111111, \"#46039f\"], [0.2222222222222222, \"#7201a8\"], [0.3333333333333333, \"#9c179e\"], [0.4444444444444444, \"#bd3786\"], [0.5555555555555556, \"#d8576b\"], [0.6666666666666666, \"#ed7953\"], [0.7777777777777778, \"#fb9f3a\"], [0.8888888888888888, \"#fdca26\"], [1.0, \"#f0f921\"]]}, \"colorway\": [\"#636efa\", \"#EF553B\", \"#00cc96\", \"#ab63fa\", \"#FFA15A\", \"#19d3f3\", \"#FF6692\", \"#B6E880\", \"#FF97FF\", \"#FECB52\"], \"font\": {\"color\": \"#2a3f5f\"}, \"geo\": {\"bgcolor\": \"white\", \"lakecolor\": \"white\", \"landcolor\": \"#E5ECF6\", \"showlakes\": true, \"showland\": true, \"subunitcolor\": \"white\"}, \"hoverlabel\": {\"align\": \"left\"}, \"hovermode\": \"closest\", \"mapbox\": {\"style\": \"light\"}, \"paper_bgcolor\": \"white\", \"plot_bgcolor\": \"#E5ECF6\", \"polar\": {\"angularaxis\": {\"gridcolor\": \"white\", \"linecolor\": \"white\", \"ticks\": \"\"}, \"bgcolor\": \"#E5ECF6\", \"radialaxis\": {\"gridcolor\": \"white\", \"linecolor\": \"white\", \"ticks\": \"\"}}, \"scene\": {\"xaxis\": {\"backgroundcolor\": \"#E5ECF6\", \"gridcolor\": \"white\", \"gridwidth\": 2, \"linecolor\": \"white\", \"showbackground\": true, \"ticks\": \"\", \"zerolinecolor\": \"white\"}, \"yaxis\": {\"backgroundcolor\": \"#E5ECF6\", \"gridcolor\": \"white\", \"gridwidth\": 2, \"linecolor\": \"white\", \"showbackground\": true, \"ticks\": \"\", \"zerolinecolor\": \"white\"}, \"zaxis\": {\"backgroundcolor\": \"#E5ECF6\", \"gridcolor\": \"white\", \"gridwidth\": 2, \"linecolor\": \"white\", \"showbackground\": true, \"ticks\": \"\", \"zerolinecolor\": \"white\"}}, \"shapedefaults\": {\"line\": {\"color\": \"#2a3f5f\"}}, \"ternary\": {\"aaxis\": {\"gridcolor\": \"white\", \"linecolor\": \"white\", \"ticks\": \"\"}, \"baxis\": {\"gridcolor\": \"white\", \"linecolor\": \"white\", \"ticks\": \"\"}, \"bgcolor\": \"#E5ECF6\", \"caxis\": {\"gridcolor\": \"white\", \"linecolor\": \"white\", \"ticks\": \"\"}}, \"title\": {\"x\": 0.05}, \"xaxis\": {\"automargin\": true, \"gridcolor\": \"white\", \"linecolor\": \"white\", \"ticks\": \"\", \"title\": {\"standoff\": 15}, \"zerolinecolor\": \"white\", \"zerolinewidth\": 2}, \"yaxis\": {\"automargin\": true, \"gridcolor\": \"white\", \"linecolor\": \"white\", \"ticks\": \"\", \"title\": {\"standoff\": 15}, \"zerolinecolor\": \"white\", \"zerolinewidth\": 2}}}, \"xaxis\": {\"type\": \"category\"}},\n",
              "                        {\"responsive\": true}\n",
              "                    ).then(function(){\n",
              "                            \n",
              "var gd = document.getElementById('6532e1b0-4c69-4d51-a7b3-6c98cd8dad6f');\n",
              "var x = new MutationObserver(function (mutations, observer) {{\n",
              "        var display = window.getComputedStyle(gd).display;\n",
              "        if (!display || display === 'none') {{\n",
              "            console.log([gd, 'removed!']);\n",
              "            Plotly.purge(gd);\n",
              "            observer.disconnect();\n",
              "        }}\n",
              "}});\n",
              "\n",
              "// Listen for the removal of the full notebook cells\n",
              "var notebookContainer = gd.closest('#notebook-container');\n",
              "if (notebookContainer) {{\n",
              "    x.observe(notebookContainer, {childList: true});\n",
              "}}\n",
              "\n",
              "// Listen for the clearing of the current output cell\n",
              "var outputEl = gd.closest('.output');\n",
              "if (outputEl) {{\n",
              "    x.observe(outputEl, {childList: true});\n",
              "}}\n",
              "\n",
              "                        })\n",
              "                };\n",
              "                \n",
              "            </script>\n",
              "        </div>\n",
              "</body>\n",
              "</html>"
            ]
          },
          "metadata": {
            "tags": []
          }
        },
        {
          "output_type": "stream",
          "text": [
            "\n",
            "Enter the stock name or QUIT to exit \n",
            "\n",
            "QUIT\n",
            "\n",
            "You : buy\n",
            "Bot : Enter Security code for Transaction\n",
            "\n",
            "You : allen\n",
            "Bot : Correct Code, Transaction Executed\n",
            "\n",
            "You : sell\n",
            "Bot : Enter Security code for Transaction\n",
            "\n",
            "You : someone else\n",
            "Bot : Incorrect Code\n",
            "\n",
            "You : sell\n",
            "Bot : Enter Security code for Transaction\n",
            "\n",
            "You : allen\n",
            "Bot : Correct Code, Transaction Executed\n",
            "\n",
            "You : Q\n"
          ],
          "name": "stdout"
        }
      ]
    }
  ]
}