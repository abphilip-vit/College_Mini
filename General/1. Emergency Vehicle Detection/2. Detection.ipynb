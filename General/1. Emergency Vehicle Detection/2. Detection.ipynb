{
 "cells": [
  {
   "cell_type": "markdown",
   "metadata": {},
   "source": [
    "### Communication"
   ]
  },
  {
   "cell_type": "code",
   "execution_count": 6,
   "metadata": {},
   "outputs": [
    {
     "name": "stdout",
     "output_type": "stream",
     "text": [
      "Running: True\n",
      "Authorization: True\n"
     ]
    }
   ],
   "source": [
    "from ipaddress import IPv4Address \n",
    "from pyairmore.request import AirmoreSession  \n",
    "from pyairmore.services.messaging import MessagingService  \n",
    "c = \"192.168.0.108\" \n",
    "ip = IPv4Address(c) \n",
    "s = AirmoreSession(ip)\n",
    "print(\"Running:\", s.is_server_running)\n",
    "wa = s.request_authorization()\n",
    "print(\"Authorization:\",wa)\n",
    "service = MessagingService(s) "
   ]
  },
  {
   "cell_type": "markdown",
   "metadata": {},
   "source": [
    "### Importing Libraries"
   ]
  },
  {
   "cell_type": "code",
   "execution_count": 13,
   "metadata": {},
   "outputs": [],
   "source": [
    "import numpy\n",
    "import numpy as npy \n",
    "import matplotlib.pyplot as plt\n",
    "import os\n",
    "import time\n",
    "import cv2\n",
    "import tensorflow as tf\n",
    "import random\n",
    "\n",
    "import PIL\n",
    "from IPython.display import display\n",
    "from PIL import Image"
   ]
  },
  {
   "cell_type": "markdown",
   "metadata": {},
   "source": [
    "### Confirmation"
   ]
  },
  {
   "cell_type": "code",
   "execution_count": 14,
   "metadata": {},
   "outputs": [],
   "source": [
    "model = tf.keras.models.load_model('Dataset/Allen2.h5')\n",
    "def prepare(filepath,j):\n",
    "    y2=0\n",
    "    global ld\n",
    "    global model\n",
    "    IMG_SIZE = 224\n",
    "    img_array = cv2.imread(filepath)\n",
    "    new_array = cv2.resize(img_array, (IMG_SIZE, IMG_SIZE))\n",
    "    x=model.predict(new_array.reshape(-1,IMG_SIZE, IMG_SIZE, 3))\n",
    "    if x == 1:\n",
    "        ct=time.time()\n",
    "        if (ct-ld)>0.2:               \n",
    "            # plt.imshow(img_array, cmap='gray')\n",
    "            # plt.show()                              --- Matplotlib altering colours. Why ?\n",
    "            cv2.imwrite(\"test/final/f{}.jpg\".format(j),img_array)\n",
    "            ld=ct\n",
    "            y2=1\n",
    "    return y2"
   ]
  },
  {
   "cell_type": "markdown",
   "metadata": {},
   "source": [
    "### YOLO"
   ]
  },
  {
   "cell_type": "code",
   "execution_count": 15,
   "metadata": {},
   "outputs": [],
   "source": [
    "def main1(n1,j): \n",
    "    y1 = 0\n",
    "    y1b = 0\n",
    "    n = n1 \n",
    "    global ld # Global variable for showing last detected time\n",
    "    \n",
    "    # load the COCO class labels our YOLO model was trained on - *preset\n",
    "    lpath = os.path.sep.join(['yolo-coco', \"coco.names\"])\n",
    "    la = open(lpath).read().strip().split(\"\\n\")\n",
    "    # derive the paths to the YOLO weights and model configuration - *preset\n",
    "    weightsPath = os.path.sep.join(['yolo-coco', \"yolov3.weights\"])\n",
    "    configPath = os.path.sep.join(['yolo-coco', \"yolov3.cfg\"])\n",
    "    # load our YOLO object detector trained on COCO dataset (80 classes) - *preset\n",
    "    net = cv2.dnn.readNetFromDarknet(configPath, weightsPath)\n",
    "    \n",
    "    # load input to get its dimensions\n",
    "    im = cv2.imread(n)\n",
    "    (H, W) = im.shape[:2]\n",
    "\n",
    "    # Colour for the labels\n",
    "    npy.random.seed(42)\n",
    "    colours = npy.random.randint(0, 255, size=(len(la), 3),dtype=\"uint8\")\n",
    "\n",
    "    # Naming layers - *preset\n",
    "    ln = net.getLayerNames()\n",
    "    ln = [ln[i[0] - 1] for i in net.getUnconnectedOutLayers()]\n",
    "\n",
    "    # construct a blob from the input image and then perform a forward - *preset\n",
    "    # pass of the YOLO object detector, giving us our bounding boxes and associated probabilities\n",
    "    blob = cv2.dnn.blobFromImage(im, 1 / 255.0, (416, 416),swapRB=True, crop=False)\n",
    "    net.setInput(blob)\n",
    "    start = time.time()\n",
    "    out = net.forward(ln)\n",
    "    end = time.time()\n",
    "\n",
    "    box1 = []\n",
    "    classID1 = []\n",
    "    confidence1 = []\n",
    "    \n",
    "    for o in out:\n",
    "        for det in o:\n",
    "            s1 = det[5:]\n",
    "            classID = npy.argmax(s1)\n",
    "            confidence = s1[classID]\n",
    "            if confidence > 0.5:\n",
    "                box = det[0:4] * npy.array([W, H, W, H])\n",
    "                (cX, cY, w1, h1) = box.astype(\"int\")\n",
    "                x = int(cX - (w1 / 2))\n",
    "                y = int(cY - (h1 / 2))\n",
    "                box1.append([x, y, int(w1), int(h1)])\n",
    "                confidence1.append(float(confidence))\n",
    "                classID1.append(classID)\n",
    "\n",
    "    # apply non-maxima suppression to suppress weak, overlapping bounding - *preset\n",
    "    id1 = cv2.dnn.NMSBoxes(box1, confidence1, 0.5, 0.3)\n",
    "    \n",
    "    if len(id1) > 0:\n",
    "        for i in id1.flatten():\n",
    "            temp = []\n",
    "            (x, y) = (box1[i][0], box1[i][1])\n",
    "            (w, h) = (box1[i][2], box1[i][3])\n",
    "            cl = [int(c) for c in colours[classID1[i]]]\n",
    "            text = \"{}\".format(la[classID1[i]])\n",
    "            if text == \"truck\":\n",
    "                area=w*h\n",
    "                cv2.rectangle(im, (x-2, y-2), (x + w + 2, y + h + 2), cl, 2)\n",
    "                cv2.putText(im, str(i)+\", \"+str(x)+\" \"+(str(y)), (x, y - 5), cv2.FONT_HERSHEY_SIMPLEX,0.5, cl, 2)\n",
    "                cv2.imwrite(\"test/detected/d{}.jpg\".format(j),im)\n",
    "                if area>100:\n",
    "                    im_refined = cv2.imread(\"test/detected/d{}.jpg\".format(j))\n",
    "                    crop = im_refined[int(y):int(y+h),int(x):int(x+w)]\n",
    "                    cv2.imwrite(\"test/crops/c{}_{}.jpg\".format(j,i),crop)\n",
    "                    y1b = prepare(\"test/crops/c{}_{}.jpg\".format(j,i),j)\n",
    "                    if y1b==1:\n",
    "                        y1=1\n",
    "    return y1"
   ]
  },
  {
   "cell_type": "markdown",
   "metadata": {},
   "source": [
    "### Main module"
   ]
  },
  {
   "cell_type": "code",
   "execution_count": 16,
   "metadata": {
    "scrolled": true
   },
   "outputs": [],
   "source": [
    "def call(given):\n",
    "    y0=0\n",
    "    yes=0\n",
    "    vid1 = \"Demo/Geo/demo ({}).mp4\".format(given)\n",
    "    frames = 60\n",
    "    # cv2.VideoCapture(0) - If you want webcam\n",
    "    cap = cv2.VideoCapture(vid1)\n",
    "    i,j,ld = 0,0,0\n",
    "\n",
    "    while True:\n",
    "        r, f = cap.read() \n",
    "        if r: \n",
    "            cv2.imshow('Test Video', f)   \n",
    "            f = cv2.resize(f,(400,300))\n",
    "            if i%frames == 0:\n",
    "                try: \n",
    "                    j = j+1\n",
    "                    s = \"test/overall/ss{}.jpg\".format(j)\n",
    "                    cv2.imwrite(s,f)\n",
    "                    y0 = main1(s,j)\n",
    "                    if y0==1:\n",
    "                        yes=1\n",
    "                except:\n",
    "                    pass\n",
    "            i=i+1\n",
    "            if cv2.waitKey(1) & 0xFF == ord('q'): \n",
    "            # Press Q to quit\n",
    "                break\n",
    "        else:\n",
    "            break\n",
    "\n",
    "    cap.release()\n",
    "    cv2.destroyAllWindows()\n",
    "    return yes"
   ]
  },
  {
   "cell_type": "markdown",
   "metadata": {},
   "source": [
    "### Plotting"
   ]
  },
  {
   "cell_type": "code",
   "execution_count": 17,
   "metadata": {},
   "outputs": [],
   "source": [
    "def person(points1,p1,p2):\n",
    "    initial1 = p1\n",
    "    initial2 = p2\n",
    "    if (p1,p2) in [(1,5),(5,5),(5,1),(1,1)]:\n",
    "        l = [1,4,6]\n",
    "        random.shuffle(l)\n",
    "        for i in range(3):\n",
    "            c = call(l[i])\n",
    "            if c==1:\n",
    "                if i==0:\n",
    "                    if p1==1:\n",
    "                        p1+=1\n",
    "                    else:\n",
    "                        p1-=1\n",
    "                if i==1:\n",
    "                    if p1==1:\n",
    "                        p1+=1\n",
    "                        if p2==1:\n",
    "                            p2-=1\n",
    "                        else:\n",
    "                            p2+=1\n",
    "                    else:\n",
    "                        p1-=1\n",
    "                        if p2==1:\n",
    "                            p2-=1\n",
    "                        else:\n",
    "                            p2+=1\n",
    "                if i==2:\n",
    "                    if p2==5:\n",
    "                        p2-=1\n",
    "                    else:\n",
    "                        p2+=1\n",
    "                break\n",
    "    else:\n",
    "        l = [1,2,3,4,5,6,7,8]\n",
    "        random.shuffle(l)\n",
    "        for i in range(8):\n",
    "            c = call(l[i])\n",
    "            if c==1:\n",
    "                if i==0:\n",
    "                    p2=p2+1\n",
    "                if i==1:\n",
    "                    p1+=1\n",
    "                    p2+=1\n",
    "                if i==2:\n",
    "                    p1+=1\n",
    "                if i==3:\n",
    "                    p1+=1\n",
    "                    p2-=1\n",
    "                if i==4:\n",
    "                    p2-=1\n",
    "                if i==5:\n",
    "                    p1-=1\n",
    "                    p2-=1\n",
    "                if i==6:\n",
    "                    p1-=1\n",
    "                if i==7:\n",
    "                    p2+=1\n",
    "                    p1-=1\n",
    "                break\n",
    "    if (p1,p2) in points1:\n",
    "        return person(points1,initial1,initial2)\n",
    "    elif p1 not in range(1,6) or p2 not in range(1,6):\n",
    "        return person(points1, initial1, initial2)\n",
    "    else:\n",
    "        points1.append((p1,p2))\n",
    "        print(points1)\n",
    "        message = \"Ambulance found at \"+str(p1)+\",\"+str(p2)\n",
    "        #service.send_message(\"9449277201\", message) \n",
    "        print(message)\n",
    "        return points1"
   ]
  },
  {
   "cell_type": "markdown",
   "metadata": {},
   "source": [
    "### Display"
   ]
  },
  {
   "cell_type": "code",
   "execution_count": 18,
   "metadata": {},
   "outputs": [
    {
     "name": "stdout",
     "output_type": "stream",
     "text": [
      "[(1, 5), (1, 4)]\n",
      "Ambulance found at 1,4\n"
     ]
    },
    {
     "data": {
      "image/png": "[encoded data removed]",
      "text/plain": [
       "<Figure size 432x288 with 1 Axes>"
      ]
     },
     "metadata": {
      "needs_background": "light"
     },
     "output_type": "display_data"
    },
    {
     "name": "stdout",
     "output_type": "stream",
     "text": [
      "[(1, 5), (1, 4), (2, 5)]\n",
      "Ambulance found at 2,5\n"
     ]
    },
    {
     "data": {
      "image/png": "[encoded data removed]",
      "text/plain": [
       "<Figure size 432x288 with 1 Axes>"
      ]
     },
     "metadata": {
      "needs_background": "light"
     },
     "output_type": "display_data"
    },
    {
     "name": "stdout",
     "output_type": "stream",
     "text": [
      "[(1, 5), (1, 4), (2, 5), (3, 4)]\n",
      "Ambulance found at 3,4\n"
     ]
    },
    {
     "data": {
      "image/png": "[encoded data removed]",
      "text/plain": [
       "<Figure size 432x288 with 1 Axes>"
      ]
     },
     "metadata": {
      "needs_background": "light"
     },
     "output_type": "display_data"
    },
    {
     "name": "stdout",
     "output_type": "stream",
     "text": [
      "[(1, 5), (1, 4), (2, 5), (3, 4), (4, 5)]\n",
      "Ambulance found at 4,5\n"
     ]
    },
    {
     "data": {
      "image/png": "[encoded data removed]",
      "text/plain": [
       "<Figure size 432x288 with 1 Axes>"
      ]
     },
     "metadata": {
      "needs_background": "light"
     },
     "output_type": "display_data"
    },
    {
     "name": "stdout",
     "output_type": "stream",
     "text": [
      "[(1, 5), (1, 4), (2, 5), (3, 4), (4, 5), (4, 4)]\n",
      "Ambulance found at 4,4\n"
     ]
    },
    {
     "data": {
      "image/png": "[encoded data removed]",
      "text/plain": [
       "<Figure size 432x288 with 1 Axes>"
      ]
     },
     "metadata": {
      "needs_background": "light"
     },
     "output_type": "display_data"
    }
   ],
   "source": [
    "points = []\n",
    "points1 = [(1,5)]\n",
    "for i in range(5):\n",
    "    points1 = person(points1,points1[-1][0],points1[-1][1])\n",
    "    for k in range(1,6):\n",
    "            for l in range(1,6):\n",
    "                if (k,l) not in points1:\n",
    "                    points.append((k,l))\n",
    "    x = list(map(lambda x: x[0], points))\n",
    "    y = list(map(lambda x: x[1], points))\n",
    "\n",
    "    x1 = list(map(lambda x1: x1[0], points1))\n",
    "    y1 = list(map(lambda x1: x1[1], points1))\n",
    "\n",
    "    plt.xticks(npy.arange(1, 6, 1))\n",
    "    plt.yticks(npy.arange(1, 6, 1))\n",
    "    plt.scatter(x,y,c=\"r\")\n",
    "    plt.scatter(x1,y1,c=\"g\")\n",
    "    plt.grid(True)\n",
    "    plt.plot(x1,y1,'g--');\n",
    "    plt.show()"
   ]
  }
 ],
 "metadata": {
  "kernelspec": {
   "display_name": "Python 3",
   "language": "python",
   "name": "python3"
  },
  "language_info": {
   "codemirror_mode": {
    "name": "ipython",
    "version": 3
   },
   "file_extension": ".py",
   "mimetype": "text/x-python",
   "name": "python",
   "nbconvert_exporter": "python",
   "pygments_lexer": "ipython3",
   "version": "3.8.3"
  }
 },
 "nbformat": 4,
 "nbformat_minor": 4
}
