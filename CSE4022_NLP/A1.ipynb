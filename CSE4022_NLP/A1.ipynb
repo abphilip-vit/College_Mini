{
 "cells": [
  {
   "cell_type": "markdown",
   "metadata": {},
   "source": [
    "# Scraping "
   ]
  },
  {
   "cell_type": "code",
   "execution_count": 101,
   "metadata": {},
   "outputs": [],
   "source": [
    "import nltk\n",
    "from bs4 import BeautifulSoup\n",
    "import bs4 as bs\n",
    "import urllib.request\n",
    "global title\n",
    "global confidence\n",
    "title = []\n",
    "confidence = []"
   ]
  },
  {
   "cell_type": "code",
   "execution_count": 102,
   "metadata": {},
   "outputs": [
    {
     "name": "stdout",
     "output_type": "stream",
     "text": [
      "Six Years And Counting… | Nat Geo Traveller India\n"
     ]
    }
   ],
   "source": [
    "url1 = \"http://www.natgeotraveller.in/six-years-and-counting/\"\n",
    "a = urllib.request.urlopen(url1).read()\n",
    "b = bs.BeautifulSoup(a,'lxml')\n",
    "title1 = b.title.next\n",
    "print(title1)\n",
    "body = b.body\n",
    "body1 = \"\" \n",
    "for p in body.find_all('p'):\n",
    "    body1+=p.text  \n",
    "title.append(title1)\n",
    "confidence.append(0.0)"
   ]
  },
  {
   "cell_type": "code",
   "execution_count": 103,
   "metadata": {},
   "outputs": [
    {
     "name": "stdout",
     "output_type": "stream",
     "text": [
      "Train to Nowhere | Nat Geo Traveller India\n"
     ]
    }
   ],
   "source": [
    "url2 = \"http://www.natgeotraveller.in/train-to-nowhere/\"\n",
    "a = urllib.request.urlopen(url2).read()\n",
    "b = bs.BeautifulSoup(a,'lxml')\n",
    "title2 = b.title.next\n",
    "print(title2)\n",
    "body = b.body\n",
    "body2 = \"\" \n",
    "for p in body.find_all('p'):\n",
    "    body2+=p.text  \n",
    "title.append(title2)\n",
    "confidence.append(0.0)"
   ]
  },
  {
   "cell_type": "code",
   "execution_count": 104,
   "metadata": {},
   "outputs": [
    {
     "name": "stdout",
     "output_type": "stream",
     "text": [
      "What Dreams May Come | Nat Geo Traveller India\n"
     ]
    }
   ],
   "source": [
    "url3 = \"http://www.natgeotraveller.in/what-dreams-may-come/\"\n",
    "a = urllib.request.urlopen(url3).read()\n",
    "b = bs.BeautifulSoup(a,'lxml')\n",
    "title3 = b.title.next\n",
    "print(title3)\n",
    "body = b.body\n",
    "body3 = \"\" \n",
    "for p in body.find_all('p'):\n",
    "    body3+=p.text  \n",
    "title.append(title3)\n",
    "confidence.append(0.0)"
   ]
  },
  {
   "cell_type": "code",
   "execution_count": 105,
   "metadata": {},
   "outputs": [
    {
     "name": "stdout",
     "output_type": "stream",
     "text": [
      "Getting Saucy About Food | Nat Geo Traveller India\n"
     ]
    }
   ],
   "source": [
    "url4 = \"http://www.natgeotraveller.in/getting-saucy-about-food/\"\n",
    "a = urllib.request.urlopen(url4).read()\n",
    "b = bs.BeautifulSoup(a,'lxml')\n",
    "title4 = b.title.next\n",
    "print(title4)\n",
    "body = b.body\n",
    "body4 = \"\" \n",
    "for p in body.find_all('p'):\n",
    "    body4+=p.text  \n",
    "title.append(title4)\n",
    "confidence.append(0.0)"
   ]
  },
  {
   "cell_type": "markdown",
   "metadata": {},
   "source": [
    "# Tokenization "
   ]
  },
  {
   "cell_type": "code",
   "execution_count": 106,
   "metadata": {},
   "outputs": [],
   "source": [
    "from nltk.tokenize import regexp_tokenize "
   ]
  },
  {
   "cell_type": "code",
   "execution_count": 107,
   "metadata": {},
   "outputs": [
    {
     "name": "stdout",
     "output_type": "stream",
     "text": [
      "538\n"
     ]
    }
   ],
   "source": [
    "tokens1 = regexp_tokenize((title1+body1), \"[\\w']+\")\n",
    "print(len(tokens1))\n",
    "# print(tokens1)"
   ]
  },
  {
   "cell_type": "code",
   "execution_count": 108,
   "metadata": {},
   "outputs": [
    {
     "name": "stdout",
     "output_type": "stream",
     "text": [
      "518\n"
     ]
    }
   ],
   "source": [
    "tokens2 = regexp_tokenize((title2+body2), \"[\\w']+\")\n",
    "print(len(tokens2))\n",
    "# print(tokens2)"
   ]
  },
  {
   "cell_type": "code",
   "execution_count": 109,
   "metadata": {},
   "outputs": [
    {
     "name": "stdout",
     "output_type": "stream",
     "text": [
      "487\n"
     ]
    }
   ],
   "source": [
    "tokens3 = regexp_tokenize((title3+body3), \"[\\w']+\")\n",
    "print(len(tokens3))\n",
    "# print(tokens3)"
   ]
  },
  {
   "cell_type": "code",
   "execution_count": 110,
   "metadata": {},
   "outputs": [
    {
     "name": "stdout",
     "output_type": "stream",
     "text": [
      "553\n"
     ]
    }
   ],
   "source": [
    "tokens4 = regexp_tokenize((title4+body4), \"[\\w']+\")\n",
    "print(len(tokens4))\n",
    "# print(tokens4)"
   ]
  },
  {
   "cell_type": "markdown",
   "metadata": {},
   "source": [
    "# Remove Stopwords "
   ]
  },
  {
   "cell_type": "code",
   "execution_count": 111,
   "metadata": {},
   "outputs": [],
   "source": [
    "from nltk.corpus import stopwords"
   ]
  },
  {
   "cell_type": "code",
   "execution_count": 112,
   "metadata": {},
   "outputs": [],
   "source": [
    "stop_words=set(stopwords.words(\"english\"))\n",
    "filtered_words1=[]\n",
    "for w in tokens1:\n",
    "    if w not in stop_words:\n",
    "        filtered_words1.append(w)\n",
    "#print(filtered_words1)"
   ]
  },
  {
   "cell_type": "code",
   "execution_count": 113,
   "metadata": {},
   "outputs": [],
   "source": [
    "stop_words=set(stopwords.words(\"english\"))\n",
    "filtered_words2=[]\n",
    "for w in tokens2:\n",
    "    if w not in stop_words:\n",
    "        filtered_words2.append(w)\n",
    "#print(filtered_words2)"
   ]
  },
  {
   "cell_type": "code",
   "execution_count": 114,
   "metadata": {},
   "outputs": [],
   "source": [
    "stop_words=set(stopwords.words(\"english\"))\n",
    "filtered_words3=[]\n",
    "for w in tokens3:\n",
    "    if w not in stop_words:\n",
    "        filtered_words3.append(w)\n",
    "#print(filtered_words3)"
   ]
  },
  {
   "cell_type": "code",
   "execution_count": 115,
   "metadata": {},
   "outputs": [],
   "source": [
    "stop_words=set(stopwords.words(\"english\"))\n",
    "filtered_words4=[]\n",
    "for w in tokens4:\n",
    "    if w not in stop_words:\n",
    "        filtered_words4.append(w)\n",
    "#print(filtered_words4)"
   ]
  },
  {
   "cell_type": "code",
   "execution_count": 131,
   "metadata": {},
   "outputs": [],
   "source": [
    "fw = [filtered_words1, filtered_words2, filtered_words3, filtered_words4]\n",
    "tk = [tokens1, tokens2, tokens3, tokens4]\n",
    "bd = [body1, body2, body3, body4]\n",
    "tl = [title1, title2, title3, title4]"
   ]
  },
  {
   "cell_type": "markdown",
   "metadata": {},
   "source": [
    "# Parameter - 1 \n",
    "\n",
    "### In articles, thoughts have to be conveyed with a specific number of words - neither too low for incomplete information delivery nor too high for the user to lose interest"
   ]
  },
  {
   "cell_type": "code",
   "execution_count": 117,
   "metadata": {},
   "outputs": [
    {
     "name": "stdout",
     "output_type": "stream",
     "text": [
      "Total Number of words:  311\n",
      "Confidence:  0.2\n",
      "Total Number of words:  313\n",
      "Confidence:  0.2\n",
      "Total Number of words:  295\n",
      "Confidence:  0.1\n",
      "Total Number of words:  340\n",
      "Confidence:  0.2\n"
     ]
    }
   ],
   "source": [
    "global confidence\n",
    "for i in range(0,4):\n",
    "    if len(fw[i])>=300 and len(fw[i])<350: confidence[i] += 0.2; # 20% confidence\n",
    "    elif len(fw[i]) in range(200,300) or len(fw[i]) in range(350,450):\n",
    "        confidence[i] += 0.1;\n",
    "    print(\"Total Number of words: \", len(fw[i]))\n",
    "    print(\"Confidence: \", round(confidence[i],2))"
   ]
  },
  {
   "cell_type": "markdown",
   "metadata": {},
   "source": [
    "# Parameter - 2 \n",
    "\n",
    "### Repeating certain words are considered to be bad from an editorial point of view as it signifies the poor vocabulary of the writer"
   ]
  },
  {
   "cell_type": "code",
   "execution_count": 118,
   "metadata": {},
   "outputs": [
    {
     "name": "stdout",
     "output_type": "stream",
     "text": [
      "Number of repeated words:  23\n",
      "Confidence:  0.4\n",
      "Number of repeated words:  23\n",
      "Confidence:  0.4\n",
      "Number of repeated words:  15\n",
      "Confidence:  0.4\n",
      "Number of repeated words:  25\n",
      "Confidence:  0.4\n"
     ]
    }
   ],
   "source": [
    "global confidence\n",
    "for x in range(0,4):\n",
    "    repeated = [] \n",
    "    for i in range(0, len(fw[x])): \n",
    "        k = i + 1\n",
    "        for j in range(k,len(fw[x])): \n",
    "            if fw[x][i] == fw[x][j] and fw[x][i] not in repeated: \n",
    "                repeated.append(fw[x][i]) \n",
    "    print(\"Number of repeated words: \",len(repeated))\n",
    "    if len(repeated)<20: confidence[x]+=0.3\n",
    "    elif len(repeated)<30: confidence[x]+=0.2\n",
    "    elif len(repeated)<40: confidence[x]+=0.1\n",
    "    print(\"Confidence: \",round(confidence[x],2))"
   ]
  },
  {
   "cell_type": "code",
   "execution_count": 119,
   "metadata": {},
   "outputs": [
    {
     "data": {
      "image/png": "[encoded data removed]",
      "text/plain": [
       "<Figure size 432x288 with 1 Axes>"
      ]
     },
     "metadata": {
      "needs_background": "light"
     },
     "output_type": "display_data"
    },
    {
     "data": {
      "text/plain": [
       "<matplotlib.axes._subplots.AxesSubplot at 0x1a7b3cb9a90>"
      ]
     },
     "execution_count": 119,
     "metadata": {},
     "output_type": "execute_result"
    }
   ],
   "source": [
    "fd = nltk.FreqDist(fw[0])\n",
    "fd.plot(15, cumulative=False)"
   ]
  },
  {
   "cell_type": "code",
   "execution_count": 120,
   "metadata": {},
   "outputs": [
    {
     "data": {
      "image/png": "[encoded data removed]",
      "text/plain": [
       "<Figure size 432x288 with 1 Axes>"
      ]
     },
     "metadata": {
      "needs_background": "light"
     },
     "output_type": "display_data"
    },
    {
     "data": {
      "text/plain": [
       "<matplotlib.axes._subplots.AxesSubplot at 0x1a7b3c7fa60>"
      ]
     },
     "execution_count": 120,
     "metadata": {},
     "output_type": "execute_result"
    }
   ],
   "source": [
    "fd = nltk.FreqDist(fw[1])\n",
    "fd.plot(15, cumulative=False)"
   ]
  },
  {
   "cell_type": "code",
   "execution_count": 121,
   "metadata": {},
   "outputs": [
    {
     "data": {
      "image/png": "[encoded data removed]",
      "text/plain": [
       "<Figure size 432x288 with 1 Axes>"
      ]
     },
     "metadata": {
      "needs_background": "light"
     },
     "output_type": "display_data"
    },
    {
     "data": {
      "text/plain": [
       "<matplotlib.axes._subplots.AxesSubplot at 0x1a7b24dbf40>"
      ]
     },
     "execution_count": 121,
     "metadata": {},
     "output_type": "execute_result"
    }
   ],
   "source": [
    "fd = nltk.FreqDist(fw[2])\n",
    "fd.plot(15, cumulative=False)"
   ]
  },
  {
   "cell_type": "code",
   "execution_count": 122,
   "metadata": {},
   "outputs": [
    {
     "data": {
      "image/png": "[encoded data removed]",
      "text/plain": [
       "<Figure size 432x288 with 1 Axes>"
      ]
     },
     "metadata": {
      "needs_background": "light"
     },
     "output_type": "display_data"
    },
    {
     "data": {
      "text/plain": [
       "<matplotlib.axes._subplots.AxesSubplot at 0x1a7b213d4f0>"
      ]
     },
     "execution_count": 122,
     "metadata": {},
     "output_type": "execute_result"
    }
   ],
   "source": [
    "fd = nltk.FreqDist(fw[3])\n",
    "fd.plot(15, cumulative=False)"
   ]
  },
  {
   "cell_type": "markdown",
   "metadata": {},
   "source": [
    "# Parameter 3\n",
    "\n",
    "### Cosine Similarity. For this, we need to consider multiple documents by the same author. Hence this parameter is not applicable for the confidence scores\n"
   ]
  },
  {
   "cell_type": "code",
   "execution_count": 123,
   "metadata": {},
   "outputs": [
    {
     "name": "stdout",
     "output_type": "stream",
     "text": [
      "similarity:  0.20196232633194666\n",
      "Eligible Candidate\n"
     ]
    }
   ],
   "source": [
    "global confidence\n",
    "cosine = 0\n",
    "l1, l2, l3, l4 = [],[],[],[]\n",
    "total = {w for w in filtered_words1}\n",
    "total = total.union({w for w in filtered_words2})\n",
    "total = total.union({w for w in filtered_words3})\n",
    "total = total.union({w for w in filtered_words4})\n",
    "\n",
    "for w in total: \n",
    "    if w in filtered_words1: \n",
    "        l1.append(1) \n",
    "    else: \n",
    "        l1.append(0) \n",
    "    if w in filtered_words2: \n",
    "        l2.append(1) \n",
    "    else: \n",
    "        l2.append(0) \n",
    "    if w in filtered_words3: \n",
    "        l3.append(1) \n",
    "    else: \n",
    "        l3.append(0) \n",
    "    if w in filtered_words4: \n",
    "        l4.append(1) \n",
    "    else: \n",
    "        l4.append(0) \n",
    "c = 0\n",
    "for i in range(len(total)): \n",
    "        c+= l1[i]*l2[i] \n",
    "cosine = cosine + (c / float((sum(l1)*sum(l2))**0.5))\n",
    "c = 0\n",
    "for i in range(len(total)): \n",
    "        c+= l1[i]*l3[i] \n",
    "cosine = cosine + (c / float((sum(l1)*sum(l3))**0.5))\n",
    "c = 0\n",
    "for i in range(len(total)): \n",
    "        c+= l1[i]*l4[i] \n",
    "cosine = cosine + (c / float((sum(l1)*sum(l4))**0.5))\n",
    "c = 0\n",
    "for i in range(len(total)): \n",
    "        c+= l2[i]*l3[i] \n",
    "cosine = cosine + (c / float((sum(l2)*sum(l3))**0.5))\n",
    "c = 0\n",
    "for i in range(len(total)): \n",
    "        c+= l2[i]*l4[i] \n",
    "cosine = cosine + (c / float((sum(l2)*sum(l4))**0.5))\n",
    "c = 0\n",
    "for i in range(len(total)): \n",
    "        c+= l3[i]*l4[i] \n",
    "cosine = cosine + (c / float((sum(l3)*sum(l4))**0.5))\n",
    "print(\"similarity: \", cosine/6) \n",
    "if(cosine/6 < 0.25):\n",
    "    print(\"Eligible Candidate\")"
   ]
  },
  {
   "cell_type": "markdown",
   "metadata": {},
   "source": [
    "# Parameter 4 \n",
    "\n",
    "### An article can be considered bloated if the number of adjectives are high"
   ]
  },
  {
   "cell_type": "code",
   "execution_count": 124,
   "metadata": {},
   "outputs": [
    {
     "name": "stdout",
     "output_type": "stream",
     "text": [
      "Number of Adjectives:  36\n",
      "Difference:  275\n",
      "Confidence:  0.4\n",
      "\n",
      "Number of Adjectives:  43\n",
      "Difference:  270\n",
      "Confidence:  0.4\n",
      "\n",
      "Number of Adjectives:  39\n",
      "Difference:  256\n",
      "Confidence:  0.4\n",
      "\n",
      "Number of Adjectives:  40\n",
      "Difference:  300\n",
      "Confidence:  0.4\n",
      "\n"
     ]
    }
   ],
   "source": [
    "from nltk.corpus import wordnet as wn\n",
    "global confidence\n",
    "for x in range(0,4):\n",
    "    adj = [] \n",
    "    for i in range(0, len(fw[x])): \n",
    "        tmp = wn.synsets(fw[x][i])\n",
    "        for temp in tmp:\n",
    "            c = temp.name().split('.')\n",
    "            #print(c)\n",
    "            if c[1] == 'a' and fw[x][i] not in adj: \n",
    "                adj.append(fw[x][i]) \n",
    "    print(\"Number of Adjectives: \",len(adj))\n",
    "    diff = len(fw[x])-len(adj)\n",
    "    print(\"Difference: \",diff)\n",
    "    if diff<35: confidence[x]+=0.1\n",
    "    elif diff<40: confidence[x]+=0.2\n",
    "    elif diff<45: confidence[x]+=0.3\n",
    "    print(\"Confidence: \",round(confidence[x],2))\n",
    "    print()"
   ]
  },
  {
   "cell_type": "markdown",
   "metadata": {},
   "source": [
    "# Parameter 5\n",
    "\n",
    "### Number of polysyllables should be within a range where it shouldn't sound complex nor too simple. Here, 4 syllables are set as the parameter"
   ]
  },
  {
   "cell_type": "code",
   "execution_count": 125,
   "metadata": {},
   "outputs": [],
   "source": [
    "# https://stackoverflow.com/questions/405161/detecting-syllables-in-a-word\n",
    "\n",
    "a4 = [0,0,0,0]\n",
    "global confidence\n",
    "for x in range(0,4):\n",
    "    for i in range(0, len(fw[x])): \n",
    "        theText = fw[x][i]\n",
    "        cleanText = \"\"\n",
    "        for ch in theText:\n",
    "            if ch in \"abcdefghijklmnopqrstuvwxyz'’\":\n",
    "                cleanText += ch\n",
    "            else:\n",
    "                cleanText += \" \"\n",
    "\n",
    "        asVow    = \"aeiouy'’\"\n",
    "        dExep    = (\"ei\",\"ie\",\"ua\",\"ia\",\"eo\")\n",
    "        theWords = cleanText.lower().split()\n",
    "        allSylls = 0\n",
    "        for inWord in theWords:\n",
    "            nChar  = len(inWord)\n",
    "            nSyll  = 0\n",
    "            wasVow = False\n",
    "            wasY   = False\n",
    "            if nChar == 0:\n",
    "                continue\n",
    "            if inWord[0] in asVow:\n",
    "                nSyll += 1\n",
    "                wasVow = True\n",
    "                wasY   = inWord[0] == \"y\"\n",
    "            for c in range(1,nChar):\n",
    "                isVow  = False\n",
    "                if inWord[c] in asVow:\n",
    "                    nSyll += 1\n",
    "                    isVow = True\n",
    "                if isVow and wasVow:\n",
    "                    nSyll -= 1\n",
    "                if isVow and wasY:\n",
    "                    nSyll -= 1\n",
    "                if inWord[c:c+2] in dExep:\n",
    "                    nSyll += 1\n",
    "                wasVow = isVow\n",
    "                wasY   = inWord[c] == \"y\"\n",
    "            if inWord.endswith((\"e\")):\n",
    "                nSyll -= 1\n",
    "            if inWord.endswith((\"le\",\"ea\",\"io\")):\n",
    "                nSyll += 1\n",
    "            if nSyll < 1:\n",
    "                nSyll = 1\n",
    "            # print(\"%-15s: %d\" % (inWord,nSyll))\n",
    "            if(nSyll>3): a4[x]+=1"
   ]
  },
  {
   "cell_type": "code",
   "execution_count": 126,
   "metadata": {},
   "outputs": [
    {
     "name": "stdout",
     "output_type": "stream",
     "text": [
      "Number of Polysyllablic words:  26\n",
      "Confidence:  0.7\n",
      "Number of Polysyllablic words:  18\n",
      "Confidence:  0.6\n",
      "Number of Polysyllablic words:  32\n",
      "Confidence:  0.7\n",
      "Number of Polysyllablic words:  27\n",
      "Confidence:  0.7\n"
     ]
    }
   ],
   "source": [
    "global confidence\n",
    "for x1 in range(0,4):\n",
    "    print(\"Number of Polysyllablic words: \", a4[x1])\n",
    "    if a4[x1] in range(25,35): confidence[x1]+=0.3\n",
    "    elif a4[x1] in range(15,25): confidence[x1]+=0.2\n",
    "    elif a4[x1] in range(35,45): confidence[x1]+=0.2\n",
    "    print(\"Confidence: \",round(confidence[x1],2))"
   ]
  },
  {
   "cell_type": "markdown",
   "metadata": {},
   "source": [
    "# Parameter 6\n",
    "\n",
    "### Sentiment Analysis, to ensure that the article sends a positive feeling to the reader"
   ]
  },
  {
   "cell_type": "code",
   "execution_count": 127,
   "metadata": {},
   "outputs": [],
   "source": [
    "def get_sentiment(sentence):\n",
    "    analysis = TextBlob(sentence)\n",
    "    if analysis.sentiment.polarity > 0:\n",
    "        return 'P'\n",
    "    elif analysis.sentiment.polarity == 0:\n",
    "        return 'Neutral'\n",
    "    else:\n",
    "        return 'N'"
   ]
  },
  {
   "cell_type": "code",
   "execution_count": 134,
   "metadata": {},
   "outputs": [
    {
     "name": "stdout",
     "output_type": "stream",
     "text": [
      "Positivity:  0.44\n",
      "Confidence:  1.1\n",
      "Positivity:  0.33\n",
      "Confidence:  0.8\n",
      "Positivity:  0.38\n",
      "Confidence:  0.9\n",
      "Positivity:  0.41\n",
      "Confidence:  1.1\n"
     ]
    }
   ],
   "source": [
    "global confidence\n",
    "for x in range(0,4):\n",
    "    a = re.split('[?.]', bd[x])\n",
    "    b = []\n",
    "    count = 0\n",
    "    for i in range(len(a)):\n",
    "        z = get_sentiment(a[i])\n",
    "        b.append(z)\n",
    "        if z=='P':\n",
    "            count+=1\n",
    "    if count/len(a)>0.4: confidence[x]+=0.2\n",
    "    elif count/len(a)>0.3: confidence[x]+=0.1\n",
    "    print(\"Positivity: \", round(count/len(a), 2))\n",
    "    print(\"Confidence: \", round(confidence[x],2))"
   ]
  },
  {
   "cell_type": "markdown",
   "metadata": {},
   "source": [
    "# Run this for resetting the confidence scores"
   ]
  },
  {
   "cell_type": "code",
   "execution_count": 100,
   "metadata": {},
   "outputs": [
    {
     "name": "stdout",
     "output_type": "stream",
     "text": [
      "[0, 0, 0, 0]\n"
     ]
    }
   ],
   "source": [
    "global confidence\n",
    "for i in range(len(confidence)):\n",
    "    confidence[i]=0\n",
    "print(confidence)"
   ]
  },
  {
   "cell_type": "markdown",
   "metadata": {},
   "source": [
    "# Calculating confidences \n",
    "\n",
    "### All the scores which are cumulated till now are checked against a minimum threshold score"
   ]
  },
  {
   "cell_type": "code",
   "execution_count": 135,
   "metadata": {},
   "outputs": [
    {
     "name": "stdout",
     "output_type": "stream",
     "text": [
      "Author of article 1 is hired\n",
      "Article  1 : Six Years And Counting… | Nat Geo Traveller India\n",
      "Author of article 4 is hired\n",
      "Article  4 : Getting Saucy About Food | Nat Geo Traveller India\n"
     ]
    }
   ],
   "source": [
    "global confidence\n",
    "for i in range(0,4):\n",
    "    if confidence[i]>0.9:\n",
    "        print(\"Author of article\", i+1, \"is hired\")\n",
    "        print(\"Article \",i+1,\":\",tl[i])"
   ]
  }
 ],
 "metadata": {
  "kernelspec": {
   "display_name": "Python 3",
   "language": "python",
   "name": "python3"
  },
  "language_info": {
   "codemirror_mode": {
    "name": "ipython",
    "version": 3
   },
   "file_extension": ".py",
   "mimetype": "text/x-python",
   "name": "python",
   "nbconvert_exporter": "python",
   "pygments_lexer": "ipython3",
   "version": "3.8.3"
  }
 },
 "nbformat": 4,
 "nbformat_minor": 4
}
